{
 "cells": [
  {
   "cell_type": "code",
   "execution_count": 1,
   "id": "6eb3c983-f0a3-4ced-a5af-52e9d1925bf6",
   "metadata": {},
   "outputs": [
    {
     "name": "stdout",
     "output_type": "stream",
     "text": [
      "Model accuracy: 47.5%\n"
     ]
    }
   ],
   "source": [
    "from sklearn.svm import SVC\n",
    "import numpy as np\n",
    "import json, librosa\n",
    "\n",
    "with open('species.txt', 'r') as file:\n",
    "    data = json.loads(file.readline().replace(\"'\", \"\\\"\"))\n",
    "\n",
    "rev = {}\n",
    "\n",
    "for key, lst in list(data.items()):\n",
    "    for val in lst:\n",
    "        rev[val] = key\n",
    "        \n",
    "with open('mfcc.json', 'r') as file:\n",
    "    data = json.load(file)\n",
    "\n",
    "X = []\n",
    "y = []\n",
    "\n",
    "for i in data['mfcc']:\n",
    "    X_i = list(np.array(list(i.items())[0][1]).mean(axis=1))\n",
    "    X.append(X_i)\n",
    "\n",
    "    y_i = list(i.items())[0][0]\n",
    "    y.append(rev[y_i])\n",
    "\n",
    "X = np.array(X, dtype=list)\n",
    "y = np.array(y, dtype=str)\n",
    "\n",
    "clf = SVC(kernel=\"linear\", C=0.025, probability=True)\n",
    "clf.fit(X, y)\n",
    "\n",
    "print(\"Model accuracy: %.1f%%\" % (clf.score(X, y) * 100))"
   ]
  },
  {
   "cell_type": "code",
   "execution_count": 2,
   "id": "25c46b7e-3849-4142-bd09-72044df48152",
   "metadata": {},
   "outputs": [
    {
     "name": "stdout",
     "output_type": "stream",
     "text": [
      "Prediction: Hawk (22.8%)\n"
     ]
    }
   ],
   "source": [
    "y_ref, sr = librosa.load('wav/114400.wav', duration=5)\n",
    "y_mfcc = librosa.feature.mfcc(y=y_ref, sr=sr, hop_length=1024)\n",
    "X_in = np.array(y_mfcc).mean(axis=1).reshape(1, -1)\n",
    "\n",
    "y_pred = clf.predict(X_in)\n",
    "y_prob = clf.predict_proba(X_in)\n",
    "\n",
    "print(\"Prediction: %s (%.1f%%)\" % (y_pred[0], max(y_prob[0]) * 100))"
   ]
  }
 ],
 "metadata": {
  "kernelspec": {
   "display_name": "Python 3 (ipykernel)",
   "language": "python",
   "name": "python3"
  },
  "language_info": {
   "codemirror_mode": {
    "name": "ipython",
    "version": 3
   },
   "file_extension": ".py",
   "mimetype": "text/x-python",
   "name": "python",
   "nbconvert_exporter": "python",
   "pygments_lexer": "ipython3",
   "version": "3.9.7"
  }
 },
 "nbformat": 4,
 "nbformat_minor": 5
}
