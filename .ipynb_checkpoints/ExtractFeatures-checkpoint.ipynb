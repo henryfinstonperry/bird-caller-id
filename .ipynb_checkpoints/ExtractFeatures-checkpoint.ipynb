{
 "cells": [
  {
   "cell_type": "code",
   "execution_count": 45,
   "id": "4066bb55-8c3c-457c-a62a-33877f7acb38",
   "metadata": {},
   "outputs": [],
   "source": [
    "import numpy, librosa, json\n",
    "from json import JSONEncoder\n",
    "from tqdm import tqdm"
   ]
  },
  {
   "cell_type": "code",
   "execution_count": null,
   "id": "d63ff410-e48e-449f-8664-5b61183ab565",
   "metadata": {},
   "outputs": [],
   "source": [
    "# https://pynative.com/python-serialize-numpy-ndarray-into-json/\n",
    "class NumpyArrayEncoder(JSONEncoder):\n",
    "    def default(self, obj):\n",
    "        if isinstance(obj, numpy.ndarray):\n",
    "            return obj.tolist()\n",
    "        return JSONEncoder.default(self, obj)\n",
    "\n",
    "ref = open('ref.json', 'r')\n",
    "rec = json.load(ref)\n",
    "hop_length = 1024\n",
    "\n",
    "for x in tqdm(rec['recordings'][500:]):\n",
    "    y_ref, sr = librosa.load('wav/' + x['id'] + '.wav', duration=5)\n",
    "    mfcc_ref = librosa.feature.mfcc(y=y_ref, sr=sr, hop_length=hop_length)\n",
    "    chroma_ref = librosa.feature.chroma_cqt(y=y_ref, sr=sr, hop_length=hop_length)\n",
    "\n",
    "    with open('mfcc.txt', 'a') as f:\n",
    "        f.write(json.dumps({x['id']: np.array(mfcc_ref)}, cls=NumpyArrayEncoder) + '\\n')\n",
    "\n",
    "    with open('chroma.txt', 'a') as f:\n",
    "        f.write(json.dumps({x['id']: np.array(chroma_ref)}, cls=NumpyArrayEncoder) + '\\n')\n"
   ]
  },
  {
   "cell_type": "code",
   "execution_count": null,
   "id": "9ba16e62-d56a-46be-932e-dcb3a823802c",
   "metadata": {},
   "outputs": [],
   "source": []
  }
 ],
 "metadata": {
  "kernelspec": {
   "display_name": "Python 3 (ipykernel)",
   "language": "python",
   "name": "python3"
  },
  "language_info": {
   "codemirror_mode": {
    "name": "ipython",
    "version": 3
   },
   "file_extension": ".py",
   "mimetype": "text/x-python",
   "name": "python",
   "nbconvert_exporter": "python",
   "pygments_lexer": "ipython3",
   "version": "3.9.10"
  }
 },
 "nbformat": 4,
 "nbformat_minor": 5
}
